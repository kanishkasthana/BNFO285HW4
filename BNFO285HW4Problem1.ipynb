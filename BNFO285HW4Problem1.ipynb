{
 "cells": [
  {
   "cell_type": "markdown",
   "metadata": {},
   "source": [
    "BNFO 285 HW4 Problem 1 Notebook Kanishk Asthana kasthana@eng.ucsd.edu\n",
    "====================================="
   ]
  },
  {
   "cell_type": "markdown",
   "metadata": {},
   "source": [
    "<h3>Part A"
   ]
  },
  {
   "cell_type": "markdown",
   "metadata": {},
   "source": [
    "Reading in Values from the Homework problem to create matrices T1 and T2"
   ]
  },
  {
   "cell_type": "code",
   "execution_count": 1,
   "metadata": {
    "collapsed": false
   },
   "outputs": [
    {
     "name": "stdout",
     "output_type": "stream",
     "text": [
      "[1] \"T1\"\n"
     ]
    },
    {
     "data": {
      "text/html": [
       "<table>\n",
       "<thead><tr><th></th><th scope=col>a</th><th scope=col>b</th><th scope=col>c</th><th scope=col>d</th><th scope=col>e</th></tr></thead>\n",
       "<tbody>\n",
       "\t<tr><th scope=row>a</th><td>0.00</td><td>0.30</td><td>0.45</td><td>0.30</td><td>0.60</td></tr>\n",
       "\t<tr><th scope=row>b</th><td>0.30</td><td>0.00</td><td>0.35</td><td>0.40</td><td>0.50</td></tr>\n",
       "\t<tr><th scope=row>c</th><td>0.45</td><td>0.35</td><td>0.00</td><td>0.55</td><td>0.35</td></tr>\n",
       "\t<tr><th scope=row>d</th><td>0.30</td><td>0.40</td><td>0.55</td><td>0.00</td><td>0.70</td></tr>\n",
       "\t<tr><th scope=row>e</th><td>0.60</td><td>0.50</td><td>0.35</td><td>0.70</td><td>0.00</td></tr>\n",
       "</tbody>\n",
       "</table>\n"
      ],
      "text/latex": [
       "\\begin{tabular}{r|lllll}\n",
       "  & a & b & c & d & e\\\\\n",
       "\\hline\n",
       "\ta & 0.00 & 0.30 & 0.45 & 0.30 & 0.60\\\\\n",
       "\tb & 0.30 & 0.00 & 0.35 & 0.40 & 0.50\\\\\n",
       "\tc & 0.45 & 0.35 & 0.00 & 0.55 & 0.35\\\\\n",
       "\td & 0.30 & 0.40 & 0.55 & 0.00 & 0.70\\\\\n",
       "\te & 0.60 & 0.50 & 0.35 & 0.70 & 0.00\\\\\n",
       "\\end{tabular}\n"
      ],
      "text/markdown": [
       "1. 0\n",
       "2. 0.3\n",
       "3. 0.45\n",
       "4. 0.3\n",
       "5. 0.6\n",
       "6. 0.3\n",
       "7. 0\n",
       "8. 0.35\n",
       "9. 0.4\n",
       "10. 0.5\n",
       "11. 0.45\n",
       "12. 0.35\n",
       "13. 0\n",
       "14. 0.55\n",
       "15. 0.35\n",
       "16. 0.3\n",
       "17. 0.4\n",
       "18. 0.55\n",
       "19. 0\n",
       "20. 0.7\n",
       "21. 0.6\n",
       "22. 0.5\n",
       "23. 0.35\n",
       "24. 0.7\n",
       "25. 0\n",
       "\n",
       "\n"
      ],
      "text/plain": [
       "     a    b    c    d    e\n",
       "a 0.00 0.30 0.45 0.30 0.60\n",
       "b 0.30 0.00 0.35 0.40 0.50\n",
       "c 0.45 0.35 0.00 0.55 0.35\n",
       "d 0.30 0.40 0.55 0.00 0.70\n",
       "e 0.60 0.50 0.35 0.70 0.00"
      ]
     },
     "execution_count": 1,
     "metadata": {},
     "output_type": "execute_result"
    },
    {
     "name": "stdout",
     "output_type": "stream",
     "text": [
      "[1] \"T2\"\n"
     ]
    },
    {
     "data": {
      "text/html": [
       "<table>\n",
       "<thead><tr><th></th><th scope=col>a</th><th scope=col>b</th><th scope=col>c</th><th scope=col>d</th><th scope=col>e</th></tr></thead>\n",
       "<tbody>\n",
       "\t<tr><th scope=row>a</th><td>0.00</td><td>0.15</td><td>0.20</td><td>0.15</td><td>0.30</td></tr>\n",
       "\t<tr><th scope=row>b</th><td>0.15</td><td>0.00</td><td>0.20</td><td>0.20</td><td>0.25</td></tr>\n",
       "\t<tr><th scope=row>c</th><td>0.20</td><td>0.20</td><td>0.00</td><td>0.25</td><td>0.30</td></tr>\n",
       "\t<tr><th scope=row>d</th><td>0.15</td><td>0.20</td><td>0.25</td><td>0.00</td><td>0.40</td></tr>\n",
       "\t<tr><th scope=row>e</th><td>0.30</td><td>0.25</td><td>0.30</td><td>0.40</td><td>0.00</td></tr>\n",
       "</tbody>\n",
       "</table>\n"
      ],
      "text/latex": [
       "\\begin{tabular}{r|lllll}\n",
       "  & a & b & c & d & e\\\\\n",
       "\\hline\n",
       "\ta & 0.00 & 0.15 & 0.20 & 0.15 & 0.30\\\\\n",
       "\tb & 0.15 & 0.00 & 0.20 & 0.20 & 0.25\\\\\n",
       "\tc & 0.20 & 0.20 & 0.00 & 0.25 & 0.30\\\\\n",
       "\td & 0.15 & 0.20 & 0.25 & 0.00 & 0.40\\\\\n",
       "\te & 0.30 & 0.25 & 0.30 & 0.40 & 0.00\\\\\n",
       "\\end{tabular}\n"
      ],
      "text/markdown": [
       "1. 0\n",
       "2. 0.15\n",
       "3. 0.2\n",
       "4. 0.15\n",
       "5. 0.3\n",
       "6. 0.15\n",
       "7. 0\n",
       "8. 0.2\n",
       "9. 0.2\n",
       "10. 0.25\n",
       "11. 0.2\n",
       "12. 0.2\n",
       "13. 0\n",
       "14. 0.25\n",
       "15. 0.3\n",
       "16. 0.15\n",
       "17. 0.2\n",
       "18. 0.25\n",
       "19. 0\n",
       "20. 0.4\n",
       "21. 0.3\n",
       "22. 0.25\n",
       "23. 0.3\n",
       "24. 0.4\n",
       "25. 0\n",
       "\n",
       "\n"
      ],
      "text/plain": [
       "     a    b    c    d    e\n",
       "a 0.00 0.15 0.20 0.15 0.30\n",
       "b 0.15 0.00 0.20 0.20 0.25\n",
       "c 0.20 0.20 0.00 0.25 0.30\n",
       "d 0.15 0.20 0.25 0.00 0.40\n",
       "e 0.30 0.25 0.30 0.40 0.00"
      ]
     },
     "execution_count": 1,
     "metadata": {},
     "output_type": "execute_result"
    }
   ],
   "source": [
    "t1Values=c(0.00, 0.30, 0.45, 0.30, 0.60, 0.30 ,0.00 ,0.35, 0.4, 0.50, 0.45, 0.35, 0.00, 0.55, 0.35, 0.30, 0.40, 0.55, 0.00, 0.70, 0.60, 0.50, 0.35, 0.70, 0.00)\n",
    "t2Values=c(0.00, 0.15, 0.2, 0.15, 0.30, 0.15, 0.00, 0.20, 0.2, 0.25, 0.20, 0.20, 0.00, 0.25, 0.30, 0.15, 0.20, 0.25, 0.00, 0.40, 0.30, 0.25, 0.30, 0.40, 0.00)\n",
    "T1=matrix(t1Values,ncol=5,nrow=5)\n",
    "T2=matrix(t2Values,ncol=5,nrow=5)\n",
    "leaves=c('a','b','c','d','e')\n",
    "colnames(T1)=leaves\n",
    "rownames(T1)=leaves\n",
    "colnames(T2)=leaves\n",
    "rownames(T2)=leaves\n",
    "print(\"T1\")\n",
    "T1\n",
    "print(\"T2\")\n",
    "T2"
   ]
  },
  {
   "cell_type": "markdown",
   "metadata": {},
   "source": [
    "The following combinations of leaves are quartets:"
   ]
  },
  {
   "cell_type": "code",
   "execution_count": 2,
   "metadata": {
    "collapsed": false
   },
   "outputs": [
    {
     "name": "stdout",
     "output_type": "stream",
     "text": [
      "[1] \"Each column is a quartet:\"\n"
     ]
    },
    {
     "data": {
      "text/html": [
       "<table>\n",
       "<tbody>\n",
       "\t<tr><td>a</td><td>a</td><td>a</td><td>a</td><td>b</td></tr>\n",
       "\t<tr><td>b</td><td>b</td><td>b</td><td>c</td><td>c</td></tr>\n",
       "\t<tr><td>c</td><td>c</td><td>d</td><td>d</td><td>d</td></tr>\n",
       "\t<tr><td>d</td><td>e</td><td>e</td><td>e</td><td>e</td></tr>\n",
       "</tbody>\n",
       "</table>\n"
      ],
      "text/latex": [
       "\\begin{tabular}{lllll}\n",
       "\t a & a & a & a & b\\\\\n",
       "\t b & b & b & c & c\\\\\n",
       "\t c & c & d & d & d\\\\\n",
       "\t d & e & e & e & e\\\\\n",
       "\\end{tabular}\n"
      ],
      "text/markdown": [
       "1. 'a'\n",
       "2. 'b'\n",
       "3. 'c'\n",
       "4. 'd'\n",
       "5. 'a'\n",
       "6. 'b'\n",
       "7. 'c'\n",
       "8. 'e'\n",
       "9. 'a'\n",
       "10. 'b'\n",
       "11. 'd'\n",
       "12. 'e'\n",
       "13. 'a'\n",
       "14. 'c'\n",
       "15. 'd'\n",
       "16. 'e'\n",
       "17. 'b'\n",
       "18. 'c'\n",
       "19. 'd'\n",
       "20. 'e'\n",
       "\n",
       "\n"
      ],
      "text/plain": [
       "     [,1] [,2] [,3] [,4] [,5]\n",
       "[1,] \"a\"  \"a\"  \"a\"  \"a\"  \"b\" \n",
       "[2,] \"b\"  \"b\"  \"b\"  \"c\"  \"c\" \n",
       "[3,] \"c\"  \"c\"  \"d\"  \"d\"  \"d\" \n",
       "[4,] \"d\"  \"e\"  \"e\"  \"e\"  \"e\" "
      ]
     },
     "execution_count": 2,
     "metadata": {},
     "output_type": "execute_result"
    }
   ],
   "source": [
    "print(\"Each column is a quartet:\")\n",
    "quartets=combn(leaves,4)\n",
    "quartets"
   ]
  },
  {
   "cell_type": "markdown",
   "metadata": {},
   "source": [
    "Generating Leaves of Potential Trees created using each of the Quartets in the previous Matrix one at at time"
   ]
  },
  {
   "cell_type": "code",
   "execution_count": 3,
   "metadata": {
    "collapsed": true
   },
   "outputs": [],
   "source": [
    "testAdditivity=function(distanceMatrix,quartets){\n",
    "    apply(quartets,2,testFourPointCondition,distanceMatrix)\n",
    "}\n",
    "\n",
    "testFourPointCondition=function(quartet,distanceMatrix){\n",
    "    d1=distanceMatrix[quartet[1],quartet[2]]+distanceMatrix[quartet[3],quartet[4]]\n",
    "    d2=distanceMatrix[quartet[1],quartet[3]]+distanceMatrix[quartet[2],quartet[4]]\n",
    "    d3=distanceMatrix[quartet[1],quartet[4]]+distanceMatrix[quartet[2],quartet[3]]\n",
    "    fourPointConditions=c(   ((d1<d2)&&(all.equal(d2,d3)==TRUE)),   ((d2<d1)&&(all.equal(d1,d3)==TRUE)),   ((d3<d2)&&(all.equal(d2,d1)==TRUE))   )\n",
    "    #If any of the three four point conditions above are true a value of TRUE is returned by the function\n",
    "    treeStructure=NULL\n",
    "    if(fourPointConditions[1]==TRUE){\n",
    "        treeStructure=c(quartet[1],quartet[2],quartet[3],quartet[4])\n",
    "    }\n",
    "    if(fourPointConditions[2]==TRUE){\n",
    "        treeStructure=c(quartet[1],quartet[3],quartet[2],quartet[4])\n",
    "    }\n",
    "    if(fourPointConditions[3]==TRUE){\n",
    "        treeStructure=c(quartet[1],quartet[4],quartet[2],quartet[3])\n",
    "    }\n",
    "    treeStructure=paste(c(paste(treeStructure[1:2],collapse=\", \"),paste(treeStructure[3:4],collapse=\", \")),collapse=\" | \")\n",
    "    return(c(sum(fourPointConditions)>0,treeStructure))\n",
    "}"
   ]
  },
  {
   "cell_type": "markdown",
   "metadata": {},
   "source": [
    "Testing Additivity for T1"
   ]
  },
  {
   "cell_type": "code",
   "execution_count": 4,
   "metadata": {
    "collapsed": false
   },
   "outputs": [
    {
     "data": {
      "text/html": [
       "<table>\n",
       "<tbody>\n",
       "\t<tr><td>TRUE</td><td>TRUE</td><td>TRUE</td><td>TRUE</td><td>TRUE</td></tr>\n",
       "\t<tr><td>a, d | b, c</td><td>a, b | c, e</td><td>a, d | b, e</td><td>a, d | c, e</td><td>b, d | c, e</td></tr>\n",
       "</tbody>\n",
       "</table>\n"
      ],
      "text/latex": [
       "\\begin{tabular}{lllll}\n",
       "\t TRUE & TRUE & TRUE & TRUE & TRUE\\\\\n",
       "\t a, d | b, c & a, b | c, e & a, d | b, e & a, d | c, e & b, d | c, e\\\\\n",
       "\\end{tabular}\n"
      ],
      "text/markdown": [
       "1. 'TRUE'\n",
       "2. 'a, d | b, c'\n",
       "3. 'TRUE'\n",
       "4. 'a, b | c, e'\n",
       "5. 'TRUE'\n",
       "6. 'a, d | b, e'\n",
       "7. 'TRUE'\n",
       "8. 'a, d | c, e'\n",
       "9. 'TRUE'\n",
       "10. 'b, d | c, e'\n",
       "\n",
       "\n"
      ],
      "text/plain": [
       "     [,1]          [,2]          [,3]          [,4]          [,5]         \n",
       "[1,] \"TRUE\"        \"TRUE\"        \"TRUE\"        \"TRUE\"        \"TRUE\"       \n",
       "[2,] \"a, d | b, c\" \"a, b | c, e\" \"a, d | b, e\" \"a, d | c, e\" \"b, d | c, e\""
      ]
     },
     "execution_count": 4,
     "metadata": {},
     "output_type": "execute_result"
    }
   ],
   "source": [
    "testAdditivity(T1,quartets)"
   ]
  },
  {
   "cell_type": "markdown",
   "metadata": {},
   "source": [
    "Since all Quartets Satisfy the Four Point Condition Matrix T1 is additive. The tree will be the combinations of all the quartets in the second row of above matrix."
   ]
  },
  {
   "cell_type": "markdown",
   "metadata": {},
   "source": [
    "Now Testing Additivity for T2"
   ]
  },
  {
   "cell_type": "code",
   "execution_count": 5,
   "metadata": {
    "collapsed": false
   },
   "outputs": [
    {
     "data": {
      "text/html": [
       "<table>\n",
       "<tbody>\n",
       "\t<tr><td>TRUE </td><td>FALSE</td><td>FALSE</td><td>FALSE</td><td>FALSE</td></tr>\n",
       "\t<tr><td>a, d | b, c</td><td> |         </td><td> |         </td><td> |         </td><td> |         </td></tr>\n",
       "</tbody>\n",
       "</table>\n"
      ],
      "text/latex": [
       "\\begin{tabular}{lllll}\n",
       "\t TRUE  & FALSE & FALSE & FALSE & FALSE\\\\\n",
       "\t a, d | b, c &  |          &  |          &  |          &  |         \\\\\n",
       "\\end{tabular}\n"
      ],
      "text/markdown": [
       "1. 'TRUE'\n",
       "2. 'a, d | b, c'\n",
       "3. 'FALSE'\n",
       "4. ' | '\n",
       "5. 'FALSE'\n",
       "6. ' | '\n",
       "7. 'FALSE'\n",
       "8. ' | '\n",
       "9. 'FALSE'\n",
       "10. ' | '\n",
       "\n",
       "\n"
      ],
      "text/plain": [
       "     [,1]          [,2]    [,3]    [,4]    [,5]   \n",
       "[1,] \"TRUE\"        \"FALSE\" \"FALSE\" \"FALSE\" \"FALSE\"\n",
       "[2,] \"a, d | b, c\" \" | \"   \" | \"   \" | \"   \" | \"  "
      ]
     },
     "execution_count": 5,
     "metadata": {},
     "output_type": "execute_result"
    }
   ],
   "source": [
    "testAdditivity(T2,quartets)"
   ]
  },
  {
   "cell_type": "markdown",
   "metadata": {},
   "source": [
    "T2 is not additive because only one quartet satisfies the Four Point Condition"
   ]
  },
  {
   "cell_type": "markdown",
   "metadata": {},
   "source": [
    "<h3>Part B"
   ]
  },
  {
   "cell_type": "markdown",
   "metadata": {},
   "source": [
    "The tree is unrooted because we cannot tell which leaf is the common ancestor from the information provided"
   ]
  },
  {
   "cell_type": "markdown",
   "metadata": {},
   "source": [
    "<h3>Part C"
   ]
  },
  {
   "cell_type": "markdown",
   "metadata": {},
   "source": [
    "Since we found the matrix T1 to be additive to find the hamming distance(p distance) we need to convert real distance to p distance using the formula:\n",
    "$$ t=-\\log (1-4/3D)$$\n",
    "Where t is the real distance and D is the p-distance. Or P-Distance is:\n",
    "$$ D=\\frac{3}{4}(1-e^{-t})$$"
   ]
  },
  {
   "cell_type": "code",
   "execution_count": 6,
   "metadata": {
    "collapsed": false
   },
   "outputs": [
    {
     "name": "stdout",
     "output_type": "stream",
     "text": [
      "   a  b  c  d  e\n",
      "a  0 23 33 23 41\n",
      "b 23  0 27 30 35\n",
      "c 33 27  0 38 27\n",
      "d 23 30 38  0 45\n",
      "e 41 35 27 45  0\n"
     ]
    }
   ],
   "source": [
    "#Converting to P Distances\n",
    "D1=(3/4)*(1-exp(-1*T1))\n",
    "#Calculating Non-normalized value for 120 base sequence:\n",
    "D1=D1*120\n",
    "#Rounding to nearest integer\n",
    "D1=round(D1)\n",
    "print(D1)"
   ]
  },
  {
   "cell_type": "code",
   "execution_count": 7,
   "metadata": {
    "collapsed": false
   },
   "outputs": [
    {
     "data": {
      "text/html": [
       "<table>\n",
       "<tbody>\n",
       "\t<tr><td>FALSE</td><td>TRUE </td><td>FALSE</td><td>FALSE</td><td>FALSE</td></tr>\n",
       "\t<tr><td> |         </td><td>a, b | c, e</td><td> |         </td><td> |         </td><td> |         </td></tr>\n",
       "</tbody>\n",
       "</table>\n"
      ],
      "text/latex": [
       "\\begin{tabular}{lllll}\n",
       "\t FALSE & TRUE  & FALSE & FALSE & FALSE\\\\\n",
       "\t  |          & a, b | c, e &  |          &  |          &  |         \\\\\n",
       "\\end{tabular}\n"
      ],
      "text/markdown": [
       "1. 'FALSE'\n",
       "2. ' | '\n",
       "3. 'TRUE'\n",
       "4. 'a, b | c, e'\n",
       "5. 'FALSE'\n",
       "6. ' | '\n",
       "7. 'FALSE'\n",
       "8. ' | '\n",
       "9. 'FALSE'\n",
       "10. ' | '\n",
       "\n",
       "\n"
      ],
      "text/plain": [
       "     [,1]    [,2]          [,3]    [,4]    [,5]   \n",
       "[1,] \"FALSE\" \"TRUE\"        \"FALSE\" \"FALSE\" \"FALSE\"\n",
       "[2,] \" | \"   \"a, b | c, e\" \" | \"   \" | \"   \" | \"  "
      ]
     },
     "execution_count": 7,
     "metadata": {},
     "output_type": "execute_result"
    }
   ],
   "source": [
    "#Testing Additivity\n",
    "testAdditivity(D1,quartets)"
   ]
  },
  {
   "cell_type": "markdown",
   "metadata": {},
   "source": [
    "<h3> Part D"
   ]
  },
  {
   "cell_type": "markdown",
   "metadata": {},
   "source": [
    "The matrix is no longer additive probably because p-distances underestimate actual distance."
   ]
  }
 ],
 "metadata": {
  "kernelspec": {
   "display_name": "R",
   "language": "R",
   "name": "ir"
  },
  "language_info": {
   "codemirror_mode": "r",
   "file_extension": ".r",
   "mimetype": "text/x-r-source",
   "name": "R",
   "pygments_lexer": "r",
   "version": "3.2.3"
  }
 },
 "nbformat": 4,
 "nbformat_minor": 0
}

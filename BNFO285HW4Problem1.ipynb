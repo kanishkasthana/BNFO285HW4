{
 "cells": [
  {
   "cell_type": "markdown",
   "metadata": {},
   "source": [
    "BNFO 285 HW4 Problem 1 Notebook Kanishk Asthana kasthana@eng.ucsd.edu\n",
    "====================================="
   ]
  },
  {
   "cell_type": "markdown",
   "metadata": {},
   "source": [
    "Reading in Values from the Homework problem to create matrices T1 and T2"
   ]
  },
  {
   "cell_type": "code",
   "execution_count": 1,
   "metadata": {
    "collapsed": false
   },
   "outputs": [
    {
     "name": "stdout",
     "output_type": "stream",
     "text": [
      "[1] \"T1\"\n"
     ]
    },
    {
     "data": {
      "text/html": [
       "<table>\n",
       "<thead><tr><th></th><th scope=col>a</th><th scope=col>b</th><th scope=col>c</th><th scope=col>d</th><th scope=col>e</th></tr></thead>\n",
       "<tbody>\n",
       "\t<tr><th scope=row>a</th><td>0.00</td><td>0.30</td><td>0.45</td><td>0.30</td><td>0.60</td></tr>\n",
       "\t<tr><th scope=row>b</th><td>0.30</td><td>0.00</td><td>0.35</td><td>0.40</td><td>0.50</td></tr>\n",
       "\t<tr><th scope=row>c</th><td>0.45</td><td>0.35</td><td>0.00</td><td>0.55</td><td>0.35</td></tr>\n",
       "\t<tr><th scope=row>d</th><td>0.30</td><td>0.40</td><td>0.55</td><td>0.00</td><td>0.70</td></tr>\n",
       "\t<tr><th scope=row>e</th><td>0.60</td><td>0.50</td><td>0.35</td><td>0.70</td><td>0.00</td></tr>\n",
       "</tbody>\n",
       "</table>\n"
      ],
      "text/latex": [
       "\\begin{tabular}{r|lllll}\n",
       "  & a & b & c & d & e\\\\\n",
       "\\hline\n",
       "\ta & 0.00 & 0.30 & 0.45 & 0.30 & 0.60\\\\\n",
       "\tb & 0.30 & 0.00 & 0.35 & 0.40 & 0.50\\\\\n",
       "\tc & 0.45 & 0.35 & 0.00 & 0.55 & 0.35\\\\\n",
       "\td & 0.30 & 0.40 & 0.55 & 0.00 & 0.70\\\\\n",
       "\te & 0.60 & 0.50 & 0.35 & 0.70 & 0.00\\\\\n",
       "\\end{tabular}\n"
      ],
      "text/markdown": [
       "1. 0\n",
       "2. 0.3\n",
       "3. 0.45\n",
       "4. 0.3\n",
       "5. 0.6\n",
       "6. 0.3\n",
       "7. 0\n",
       "8. 0.35\n",
       "9. 0.4\n",
       "10. 0.5\n",
       "11. 0.45\n",
       "12. 0.35\n",
       "13. 0\n",
       "14. 0.55\n",
       "15. 0.35\n",
       "16. 0.3\n",
       "17. 0.4\n",
       "18. 0.55\n",
       "19. 0\n",
       "20. 0.7\n",
       "21. 0.6\n",
       "22. 0.5\n",
       "23. 0.35\n",
       "24. 0.7\n",
       "25. 0\n",
       "\n",
       "\n"
      ],
      "text/plain": [
       "     a    b    c    d    e\n",
       "a 0.00 0.30 0.45 0.30 0.60\n",
       "b 0.30 0.00 0.35 0.40 0.50\n",
       "c 0.45 0.35 0.00 0.55 0.35\n",
       "d 0.30 0.40 0.55 0.00 0.70\n",
       "e 0.60 0.50 0.35 0.70 0.00"
      ]
     },
     "execution_count": 1,
     "metadata": {},
     "output_type": "execute_result"
    },
    {
     "name": "stdout",
     "output_type": "stream",
     "text": [
      "[1] \"T2\"\n"
     ]
    },
    {
     "data": {
      "text/html": [
       "<table>\n",
       "<thead><tr><th></th><th scope=col>a</th><th scope=col>b</th><th scope=col>c</th><th scope=col>d</th><th scope=col>e</th></tr></thead>\n",
       "<tbody>\n",
       "\t<tr><th scope=row>a</th><td>0.00</td><td>0.15</td><td>0.20</td><td>0.15</td><td>0.30</td></tr>\n",
       "\t<tr><th scope=row>b</th><td>0.15</td><td>0.00</td><td>0.20</td><td>0.20</td><td>0.25</td></tr>\n",
       "\t<tr><th scope=row>c</th><td>0.20</td><td>0.20</td><td>0.00</td><td>0.25</td><td>0.30</td></tr>\n",
       "\t<tr><th scope=row>d</th><td>0.15</td><td>0.20</td><td>0.25</td><td>0.00</td><td>0.40</td></tr>\n",
       "\t<tr><th scope=row>e</th><td>0.30</td><td>0.25</td><td>0.30</td><td>0.40</td><td>0.00</td></tr>\n",
       "</tbody>\n",
       "</table>\n"
      ],
      "text/latex": [
       "\\begin{tabular}{r|lllll}\n",
       "  & a & b & c & d & e\\\\\n",
       "\\hline\n",
       "\ta & 0.00 & 0.15 & 0.20 & 0.15 & 0.30\\\\\n",
       "\tb & 0.15 & 0.00 & 0.20 & 0.20 & 0.25\\\\\n",
       "\tc & 0.20 & 0.20 & 0.00 & 0.25 & 0.30\\\\\n",
       "\td & 0.15 & 0.20 & 0.25 & 0.00 & 0.40\\\\\n",
       "\te & 0.30 & 0.25 & 0.30 & 0.40 & 0.00\\\\\n",
       "\\end{tabular}\n"
      ],
      "text/markdown": [
       "1. 0\n",
       "2. 0.15\n",
       "3. 0.2\n",
       "4. 0.15\n",
       "5. 0.3\n",
       "6. 0.15\n",
       "7. 0\n",
       "8. 0.2\n",
       "9. 0.2\n",
       "10. 0.25\n",
       "11. 0.2\n",
       "12. 0.2\n",
       "13. 0\n",
       "14. 0.25\n",
       "15. 0.3\n",
       "16. 0.15\n",
       "17. 0.2\n",
       "18. 0.25\n",
       "19. 0\n",
       "20. 0.4\n",
       "21. 0.3\n",
       "22. 0.25\n",
       "23. 0.3\n",
       "24. 0.4\n",
       "25. 0\n",
       "\n",
       "\n"
      ],
      "text/plain": [
       "     a    b    c    d    e\n",
       "a 0.00 0.15 0.20 0.15 0.30\n",
       "b 0.15 0.00 0.20 0.20 0.25\n",
       "c 0.20 0.20 0.00 0.25 0.30\n",
       "d 0.15 0.20 0.25 0.00 0.40\n",
       "e 0.30 0.25 0.30 0.40 0.00"
      ]
     },
     "execution_count": 1,
     "metadata": {},
     "output_type": "execute_result"
    }
   ],
   "source": [
    "t1Values=c(0.00, 0.30, 0.45, 0.30, 0.60, 0.30 ,0.00 ,0.35, 0.4, 0.50, 0.45, 0.35, 0.00, 0.55, 0.35, 0.30, 0.40, 0.55, 0.00, 0.70, 0.60, 0.50, 0.35, 0.70, 0.00)\n",
    "t2Values=c(0.00, 0.15, 0.2, 0.15, 0.30, 0.15, 0.00, 0.20, 0.2, 0.25, 0.20, 0.20, 0.00, 0.25, 0.30, 0.15, 0.20, 0.25, 0.00, 0.40, 0.30, 0.25, 0.30, 0.40, 0.00)\n",
    "T1=matrix(t1Values,ncol=5,nrow=5)\n",
    "T2=matrix(t2Values,ncol=5,nrow=5)\n",
    "leaves=c('a','b','c','d','e')\n",
    "colnames(T1)=leaves\n",
    "rownames(T1)=leaves\n",
    "colnames(T2)=leaves\n",
    "rownames(T2)=leaves\n",
    "print(\"T1\")\n",
    "T1\n",
    "print(\"T2\")\n",
    "T2"
   ]
  },
  {
   "cell_type": "markdown",
   "metadata": {},
   "source": [
    "The following combinations of leaves are quartets:"
   ]
  },
  {
   "cell_type": "code",
   "execution_count": 2,
   "metadata": {
    "collapsed": false
   },
   "outputs": [
    {
     "name": "stdout",
     "output_type": "stream",
     "text": [
      "[1] \"Each column is a quartet:\"\n"
     ]
    },
    {
     "data": {
      "text/html": [
       "<table>\n",
       "<tbody>\n",
       "\t<tr><td>a</td><td>a</td><td>a</td><td>a</td><td>b</td></tr>\n",
       "\t<tr><td>b</td><td>b</td><td>b</td><td>c</td><td>c</td></tr>\n",
       "\t<tr><td>c</td><td>c</td><td>d</td><td>d</td><td>d</td></tr>\n",
       "\t<tr><td>d</td><td>e</td><td>e</td><td>e</td><td>e</td></tr>\n",
       "</tbody>\n",
       "</table>\n"
      ],
      "text/latex": [
       "\\begin{tabular}{lllll}\n",
       "\t a & a & a & a & b\\\\\n",
       "\t b & b & b & c & c\\\\\n",
       "\t c & c & d & d & d\\\\\n",
       "\t d & e & e & e & e\\\\\n",
       "\\end{tabular}\n"
      ],
      "text/markdown": [
       "1. 'a'\n",
       "2. 'b'\n",
       "3. 'c'\n",
       "4. 'd'\n",
       "5. 'a'\n",
       "6. 'b'\n",
       "7. 'c'\n",
       "8. 'e'\n",
       "9. 'a'\n",
       "10. 'b'\n",
       "11. 'd'\n",
       "12. 'e'\n",
       "13. 'a'\n",
       "14. 'c'\n",
       "15. 'd'\n",
       "16. 'e'\n",
       "17. 'b'\n",
       "18. 'c'\n",
       "19. 'd'\n",
       "20. 'e'\n",
       "\n",
       "\n"
      ],
      "text/plain": [
       "     [,1] [,2] [,3] [,4] [,5]\n",
       "[1,] \"a\"  \"a\"  \"a\"  \"a\"  \"b\" \n",
       "[2,] \"b\"  \"b\"  \"b\"  \"c\"  \"c\" \n",
       "[3,] \"c\"  \"c\"  \"d\"  \"d\"  \"d\" \n",
       "[4,] \"d\"  \"e\"  \"e\"  \"e\"  \"e\" "
      ]
     },
     "execution_count": 2,
     "metadata": {},
     "output_type": "execute_result"
    }
   ],
   "source": [
    "print(\"Each column is a quartet:\")\n",
    "quartets=combn(leaves,4)\n",
    "quartets"
   ]
  },
  {
   "cell_type": "markdown",
   "metadata": {},
   "source": [
    "Generating Leaves of Potential Trees created using each of the Quartets in the previous Matrix one at at time"
   ]
  },
  {
   "cell_type": "code",
   "execution_count": 20,
   "metadata": {
    "collapsed": false
   },
   "outputs": [
    {
     "data": {
      "text/html": [
       "<ol class=list-inline>\n",
       "\t<li>TRUE</li>\n",
       "\t<li>TRUE</li>\n",
       "\t<li>TRUE</li>\n",
       "\t<li>TRUE</li>\n",
       "\t<li>FALSE</li>\n",
       "</ol>\n"
      ],
      "text/latex": [
       "\\begin{enumerate*}\n",
       "\\item TRUE\n",
       "\\item TRUE\n",
       "\\item TRUE\n",
       "\\item TRUE\n",
       "\\item FALSE\n",
       "\\end{enumerate*}\n"
      ],
      "text/markdown": [
       "1. TRUE\n",
       "2. TRUE\n",
       "3. TRUE\n",
       "4. TRUE\n",
       "5. FALSE\n",
       "\n",
       "\n"
      ],
      "text/plain": [
       "[1]  TRUE  TRUE  TRUE  TRUE FALSE"
      ]
     },
     "execution_count": 20,
     "metadata": {},
     "output_type": "execute_result"
    }
   ],
   "source": [
    "testAdditivity=function(distanceMatrix,quartets){\n",
    "    apply(quartets,2,testFourPointCondition,distanceMatrix)\n",
    "}\n",
    "\n",
    "testFourPointCondition=function(quartet,distanceMatrix){\n",
    "    d1=distanceMatrix[quartet[1],quartet[2]]+distanceMatrix[quartet[3],quartet[4]]\n",
    "    d2=distanceMatrix[quartet[1],quartet[3]]+distanceMatrix[quartet[2],quartet[4]]\n",
    "    d3=distanceMatrix[quartet[1],quartet[4]]+distanceMatrix[quartet[2],quartet[3]]\n",
    "    fourPointConditions=c(   ((d1<d2)&&(d2==d3)),   ((d2<d1)&&(d1==d3)),   ((d3<d2)&&(d2==d1))   )\n",
    "    return(sum(fourPointConditions)>0)\n",
    "}\n",
    "\n",
    "testAdditivity(T1,quartets)"
   ]
  },
  {
   "cell_type": "code",
   "execution_count": null,
   "metadata": {
    "collapsed": true
   },
   "outputs": [],
   "source": []
  }
 ],
 "metadata": {
  "kernelspec": {
   "display_name": "R",
   "language": "R",
   "name": "ir"
  },
  "language_info": {
   "codemirror_mode": "r",
   "file_extension": ".r",
   "mimetype": "text/x-r-source",
   "name": "R",
   "pygments_lexer": "r",
   "version": "3.2.3"
  }
 },
 "nbformat": 4,
 "nbformat_minor": 0
}

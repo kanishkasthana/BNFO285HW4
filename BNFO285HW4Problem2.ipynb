{
 "cells": [
  {
   "cell_type": "markdown",
   "metadata": {},
   "source": [
    "BNFO 285 HW4 Problem 2 Notebook Kanishk Asthana kasthana@eng.ucsd.edu\n",
    "==========================="
   ]
  },
  {
   "cell_type": "markdown",
   "metadata": {},
   "source": [
    "<h3>Part A"
   ]
  },
  {
   "cell_type": "markdown",
   "metadata": {},
   "source": [
    "From the slides we know the species tree topology has greater topology such that p0+p1>p2=p3. Therefore the probability for the three trees using the exponential distribution rule is: $p1=1−(2/3) exp(−t)$ and $p2=p3=(1/3) exp(−t)$"
   ]
  }
 ],
 "metadata": {
  "kernelspec": {
   "display_name": "R",
   "language": "R",
   "name": "ir"
  },
  "language_info": {
   "codemirror_mode": "r",
   "file_extension": ".r",
   "mimetype": "text/x-r-source",
   "name": "R",
   "pygments_lexer": "r",
   "version": "3.2.3"
  }
 },
 "nbformat": 4,
 "nbformat_minor": 0
}
